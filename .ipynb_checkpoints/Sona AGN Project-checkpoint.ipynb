{
 "cells": [
  {
   "cell_type": "markdown",
   "id": "e24496f3-879c-4df8-801a-5e6fb00b2d1b",
   "metadata": {},
   "source": [
    "Sona Davis\n",
    "# FINAL PROJECT \n",
    "Introduction to Active Galactic Nuclei"
   ]
  },
  {
   "cell_type": "markdown",
   "id": "e99d4790-d0a1-4146-a4f8-43b498ce5b76",
   "metadata": {},
   "source": [
    "## TASK 1:"
   ]
  },
  {
   "cell_type": "markdown",
   "id": "31a44c16-c4f6-4093-b8b7-71a29f7690b1",
   "metadata": {},
   "source": [
    "The first project task is to extract top 10,000 galaxies with narrow emission lines with redshift\n",
    "z<0.35 from the SDSS database (e.g., DR17 or DR18 –http://www.sdss.org/) using the SQL\n",
    "search and produce BPT diagram."
   ]
  },
  {
   "cell_type": "code",
   "execution_count": null,
   "id": "5c48d57e-751d-432f-8b18-d91648a607d1",
   "metadata": {},
   "outputs": [],
   "source": []
  },
  {
   "cell_type": "markdown",
   "id": "7e2287a5-38fa-40c6-b362-373b13f91317",
   "metadata": {},
   "source": [
    "**task a)** Obtain the following line fluxes[O III] l5007, Hb, [N II] l6583, Ha, [S II] ll6716, 6731,\n",
    "[O I] l6300, and equivalent width of Ha from the SDSS spectral databases (tips: when\n",
    "selecting galaxies define as one of the criteria that you only need narrow emission line; find a\n",
    "way to calculate line fluxes using only data available in SDSS tables). For the division line use\n",
    "the theoretical curves obtained by Kewley et al. (2001) and empirical curves from Kauffman\n",
    "et al. (2003). Make plots for [O III] l5007/Hb vs. [N II] l6583/Ha, denoting with different\n",
    "marks/colors different object"
   ]
  },
  {
   "cell_type": "code",
   "execution_count": null,
   "id": "526fde29-007f-4123-bff7-7ca6485e491e",
   "metadata": {},
   "outputs": [],
   "source": []
  },
  {
   "cell_type": "markdown",
   "id": "9bffbe48-bd0d-4b33-a48c-d18f3b7fd6ee",
   "metadata": {},
   "source": [
    "**task b)** Make a WHAN diagram, the equivalent width of Hα (WHα) vs. [N II]/Hα ratio, for the\n",
    "objects already classified (keep the same notation, i.e., the classification information\n",
    "obtained in the BPT diagram). Comment and discuss the obtained results, give the\n",
    "number/percentage of objects classified as (strong) AGN/Seyferts by the BPT and WHAN diagrams."
   ]
  },
  {
   "cell_type": "code",
   "execution_count": null,
   "id": "92024ff2-c015-4834-8745-22c446377382",
   "metadata": {},
   "outputs": [],
   "source": []
  }
 ],
 "metadata": {
  "kernelspec": {
   "display_name": "Python 3 (ipykernel)",
   "language": "python",
   "name": "python3"
  },
  "language_info": {
   "codemirror_mode": {
    "name": "ipython",
    "version": 3
   },
   "file_extension": ".py",
   "mimetype": "text/x-python",
   "name": "python",
   "nbconvert_exporter": "python",
   "pygments_lexer": "ipython3",
   "version": "3.12.4"
  }
 },
 "nbformat": 4,
 "nbformat_minor": 5
}
